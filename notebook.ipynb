{
 "cells": [
  {
   "cell_type": "code",
   "execution_count": 1,
   "metadata": {},
   "outputs": [],
   "source": [
    "from langchain.chat_models import ChatOpenAI\n",
    "from langchain.prompts.few_shot import FewShotChatMessagePromptTemplate\n",
    "from langchain.callbacks import StreamingStdOutCallbackHandler\n",
    "from langchain.prompts import ChatMessagePromptTemplate, ChatPromptTemplate\n"
   ]
  },
  {
   "cell_type": "code",
   "execution_count": 2,
   "metadata": {},
   "outputs": [],
   "source": [
    "# ChatOpenAI 초기화\n",
    "chat = ChatOpenAI(\n",
    "    temperature=0.1,\n",
    "    streaming=True,\n",
    "    callbacks=[\n",
    "        StreamingStdOutCallbackHandler(),\n",
    "    ],\n",
    ")"
   ]
  },
  {
   "cell_type": "code",
   "execution_count": 3,
   "metadata": {},
   "outputs": [],
   "source": [
    "\n",
    "# 예제 목록 생성\n",
    "examples = [\n",
    "    {\n",
    "        \"movie\": \"The Lion King\",\n",
    "        \"answer\": \"\"\"\n",
    "        Director: Roger Allers, Rob Minkoff\n",
    "        Main Cast: Matthew Broderick, James Earl Jones, Jeremy Irons\n",
    "        Budget: $45 million\n",
    "        Box Office: $968.5 million\n",
    "        Genre: Animation, Adventure, Drama\n",
    "        Synopsis: A young lion prince, Simba, learns to embrace his role as king after the death of his father.\n",
    "        \"\"\",\n",
    "    },\n",
    "    {\n",
    "        \"movie\": \"Frozen\",\n",
    "        \"answer\": \"\"\"\n",
    "        Director: Chris Buck, Jennifer Lee\n",
    "        Main Cast: Kristen Bell, Idina Menzel, Jonathan Groff\n",
    "        Budget: $150 million\n",
    "        Box Office: $1.282 billion\n",
    "        Genre: Animation, Adventure, Comedy\n",
    "        Synopsis: Two sisters, Anna and Elsa, discover the power of true love and overcome Elsa's magical ice powers.\n",
    "        \"\"\",\n",
    "    },\n",
    "    {\n",
    "        \"movie\": \"Toy Story\",\n",
    "        \"answer\": \"\"\"\n",
    "        Director: John Lasseter\n",
    "        Main Cast: Tom Hanks, Tim Allen, Don Rickles\n",
    "        Budget: $30 million\n",
    "        Box Office: $373 million\n",
    "        Genre: Animation, Adventure, Comedy\n",
    "        Synopsis: Woody and Buzz Lightyear, two toys, must work together to find their way back to their owner, Andy.\n",
    "        \"\"\",\n",
    "    },\n",
    "]"
   ]
  },
  {
   "cell_type": "code",
   "execution_count": 4,
   "metadata": {},
   "outputs": [],
   "source": [
    "# 예제 프롬프트 템플릿 생성\n",
    "example_prompt = ChatPromptTemplate.from_messages(\n",
    "    [\n",
    "        (\"human\", \"What do you know about the movie {movie}?\"),\n",
    "        (\"ai\", \"{answer}\"),\n",
    "    ]\n",
    ")"
   ]
  },
  {
   "cell_type": "code",
   "execution_count": 5,
   "metadata": {},
   "outputs": [],
   "source": [
    "# FewShot 프롬프트 템플릿 생성\n",
    "example_prompt = FewShotChatMessagePromptTemplate(\n",
    "    example_prompt=example_prompt,\n",
    "    examples=examples,\n",
    ")\n",
    "\n",
    "# 최종 프롬프트 템플릿 생성\n",
    "final_prompt = ChatPromptTemplate.from_messages(\n",
    "    [\n",
    "        (\"system\", \"You are a movie expert who provides detailed information about movies.\"),\n",
    "        example_prompt,\n",
    "        (\"human\", \"What do you know about the movie {movie}?\"),\n",
    "    ]\n",
    ")"
   ]
  },
  {
   "cell_type": "code",
   "execution_count": 6,
   "metadata": {},
   "outputs": [
    {
     "name": "stdout",
     "output_type": "stream",
     "text": [
      "\n",
      "        Director: James Cameron\n",
      "        Main Cast: Leonardo DiCaprio, Kate Winslet, Billy Zane\n",
      "        Budget: $200 million\n",
      "        Box Office: $2.195 billion\n",
      "        Genre: Drama, Romance\n",
      "        Synopsis: A young couple, Jack and Rose, fall in love aboard the ill-fated RMS Titanic during its maiden voyage.\n",
      "        "
     ]
    },
    {
     "data": {
      "text/plain": [
       "AIMessageChunk(content='\\n        Director: James Cameron\\n        Main Cast: Leonardo DiCaprio, Kate Winslet, Billy Zane\\n        Budget: $200 million\\n        Box Office: $2.195 billion\\n        Genre: Drama, Romance\\n        Synopsis: A young couple, Jack and Rose, fall in love aboard the ill-fated RMS Titanic during its maiden voyage.\\n        ')"
      ]
     },
     "execution_count": 6,
     "metadata": {},
     "output_type": "execute_result"
    }
   ],
   "source": [
    "# 체인 생성\n",
    "chain = final_prompt | chat\n",
    "\n",
    "# 체인 실행\n",
    "chain.invoke({\"movie\": \"Titanic\"})"
   ]
  },
  {
   "cell_type": "code",
   "execution_count": null,
   "metadata": {},
   "outputs": [],
   "source": []
  }
 ],
 "metadata": {
  "kernelspec": {
   "display_name": "env",
   "language": "python",
   "name": "python3"
  },
  "language_info": {
   "codemirror_mode": {
    "name": "ipython",
    "version": 3
   },
   "file_extension": ".py",
   "mimetype": "text/x-python",
   "name": "python",
   "nbconvert_exporter": "python",
   "pygments_lexer": "ipython3",
   "version": "3.11.9"
  }
 },
 "nbformat": 4,
 "nbformat_minor": 2
}
